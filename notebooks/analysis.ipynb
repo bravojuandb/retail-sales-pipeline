{
 "cells": [
  {
   "cell_type": "markdown",
   "id": "ecb01af5",
   "metadata": {},
   "source": [
    "## Analyze cleaned sales report: top customers, monthly trend, refunds"
   ]
  },
  {
   "cell_type": "code",
   "execution_count": 19,
   "id": "1b41c57f",
   "metadata": {},
   "outputs": [],
   "source": [
    "import pandas as pd\n",
    "import matplotlib.pyplot as plt\n",
    "from pathlib import Path"
   ]
  },
  {
   "cell_type": "code",
   "execution_count": null,
   "id": "0451fe1e",
   "metadata": {},
   "outputs": [
    {
     "data": {
      "text/plain": [
       "(56,\n",
       " delivery_note             int64\n",
       " date             datetime64[ns]\n",
       " customer_id               int64\n",
       " amount                  float64\n",
       " vat                     float64\n",
       " total                   float64\n",
       " invoice_num               int64\n",
       " dtype: object)"
      ]
     },
     "execution_count": 20,
     "metadata": {},
     "output_type": "execute_result"
    }
   ],
   "source": [
    "ROOT = Path().resolve().parent\n",
    "\n",
    "parquet_path = ROOT / \"data\" / \"clean\" /\"retail_generated_70_clean.parquet\"\n",
    "\n",
    "df = pd.read_parquet(parquet_path)\n",
    "\n",
    "len(df), df.dtypes"
   ]
  },
  {
   "cell_type": "code",
   "execution_count": 21,
   "id": "f8ac9528",
   "metadata": {},
   "outputs": [
    {
     "data": {
      "text/html": [
       "<div>\n",
       "<style scoped>\n",
       "    .dataframe tbody tr th:only-of-type {\n",
       "        vertical-align: middle;\n",
       "    }\n",
       "\n",
       "    .dataframe tbody tr th {\n",
       "        vertical-align: top;\n",
       "    }\n",
       "\n",
       "    .dataframe thead th {\n",
       "        text-align: right;\n",
       "    }\n",
       "</style>\n",
       "<table border=\"1\" class=\"dataframe\">\n",
       "  <thead>\n",
       "    <tr style=\"text-align: right;\">\n",
       "      <th></th>\n",
       "      <th>delivery_note</th>\n",
       "      <th>date</th>\n",
       "      <th>customer_id</th>\n",
       "      <th>amount</th>\n",
       "      <th>vat</th>\n",
       "      <th>total</th>\n",
       "      <th>invoice_num</th>\n",
       "    </tr>\n",
       "  </thead>\n",
       "  <tbody>\n",
       "    <tr>\n",
       "      <th>count</th>\n",
       "      <td>56.000000</td>\n",
       "      <td>56</td>\n",
       "      <td>56.000000</td>\n",
       "      <td>56.000000</td>\n",
       "      <td>56.000000</td>\n",
       "      <td>56.000000</td>\n",
       "      <td>56.000000</td>\n",
       "    </tr>\n",
       "    <tr>\n",
       "      <th>mean</th>\n",
       "      <td>34257.839286</td>\n",
       "      <td>2024-10-31 15:51:25.714285824</td>\n",
       "      <td>2969.303571</td>\n",
       "      <td>227.134286</td>\n",
       "      <td>48.883036</td>\n",
       "      <td>281.658036</td>\n",
       "      <td>8388.535714</td>\n",
       "    </tr>\n",
       "    <tr>\n",
       "      <th>min</th>\n",
       "      <td>28903.000000</td>\n",
       "      <td>2024-09-13 00:00:00</td>\n",
       "      <td>266.000000</td>\n",
       "      <td>-75.990000</td>\n",
       "      <td>0.030000</td>\n",
       "      <td>0.170000</td>\n",
       "      <td>6947.000000</td>\n",
       "    </tr>\n",
       "    <tr>\n",
       "      <th>25%</th>\n",
       "      <td>28916.750000</td>\n",
       "      <td>2024-09-13 00:00:00</td>\n",
       "      <td>1741.250000</td>\n",
       "      <td>5.682500</td>\n",
       "      <td>1.705000</td>\n",
       "      <td>9.805000</td>\n",
       "      <td>7636.750000</td>\n",
       "    </tr>\n",
       "    <tr>\n",
       "      <th>50%</th>\n",
       "      <td>32407.500000</td>\n",
       "      <td>2024-10-14 00:00:00</td>\n",
       "      <td>3528.000000</td>\n",
       "      <td>15.175000</td>\n",
       "      <td>4.015000</td>\n",
       "      <td>23.155000</td>\n",
       "      <td>8402.500000</td>\n",
       "    </tr>\n",
       "    <tr>\n",
       "      <th>75%</th>\n",
       "      <td>37748.250000</td>\n",
       "      <td>2024-11-30 00:00:00</td>\n",
       "      <td>4242.000000</td>\n",
       "      <td>41.867500</td>\n",
       "      <td>10.110000</td>\n",
       "      <td>58.250000</td>\n",
       "      <td>9117.750000</td>\n",
       "    </tr>\n",
       "    <tr>\n",
       "      <th>max</th>\n",
       "      <td>40273.000000</td>\n",
       "      <td>2024-12-31 00:00:00</td>\n",
       "      <td>5392.000000</td>\n",
       "      <td>8669.610000</td>\n",
       "      <td>1820.620000</td>\n",
       "      <td>10490.230000</td>\n",
       "      <td>10318.000000</td>\n",
       "    </tr>\n",
       "    <tr>\n",
       "      <th>std</th>\n",
       "      <td>4272.310960</td>\n",
       "      <td>NaN</td>\n",
       "      <td>1497.789728</td>\n",
       "      <td>1170.030310</td>\n",
       "      <td>245.469490</td>\n",
       "      <td>1414.370487</td>\n",
       "      <td>987.894657</td>\n",
       "    </tr>\n",
       "  </tbody>\n",
       "</table>\n",
       "</div>"
      ],
      "text/plain": [
       "       delivery_note                           date  customer_id       amount  \\\n",
       "count      56.000000                             56    56.000000    56.000000   \n",
       "mean    34257.839286  2024-10-31 15:51:25.714285824  2969.303571   227.134286   \n",
       "min     28903.000000            2024-09-13 00:00:00   266.000000   -75.990000   \n",
       "25%     28916.750000            2024-09-13 00:00:00  1741.250000     5.682500   \n",
       "50%     32407.500000            2024-10-14 00:00:00  3528.000000    15.175000   \n",
       "75%     37748.250000            2024-11-30 00:00:00  4242.000000    41.867500   \n",
       "max     40273.000000            2024-12-31 00:00:00  5392.000000  8669.610000   \n",
       "std      4272.310960                            NaN  1497.789728  1170.030310   \n",
       "\n",
       "               vat         total   invoice_num  \n",
       "count    56.000000     56.000000     56.000000  \n",
       "mean     48.883036    281.658036   8388.535714  \n",
       "min       0.030000      0.170000   6947.000000  \n",
       "25%       1.705000      9.805000   7636.750000  \n",
       "50%       4.015000     23.155000   8402.500000  \n",
       "75%      10.110000     58.250000   9117.750000  \n",
       "max    1820.620000  10490.230000  10318.000000  \n",
       "std     245.469490   1414.370487    987.894657  "
      ]
     },
     "execution_count": 21,
     "metadata": {},
     "output_type": "execute_result"
    }
   ],
   "source": [
    "df.head()\n",
    "df.describe(include=\"all\")"
   ]
  },
  {
   "cell_type": "code",
   "execution_count": 22,
   "id": "e9a79683",
   "metadata": {},
   "outputs": [
    {
     "data": {
      "text/html": [
       "<div>\n",
       "<style scoped>\n",
       "    .dataframe tbody tr th:only-of-type {\n",
       "        vertical-align: middle;\n",
       "    }\n",
       "\n",
       "    .dataframe tbody tr th {\n",
       "        vertical-align: top;\n",
       "    }\n",
       "\n",
       "    .dataframe thead th {\n",
       "        text-align: right;\n",
       "    }\n",
       "</style>\n",
       "<table border=\"1\" class=\"dataframe\">\n",
       "  <thead>\n",
       "    <tr style=\"text-align: right;\">\n",
       "      <th></th>\n",
       "      <th>customer_id</th>\n",
       "      <th>total</th>\n",
       "    </tr>\n",
       "  </thead>\n",
       "  <tbody>\n",
       "    <tr>\n",
       "      <th>32</th>\n",
       "      <td>5115</td>\n",
       "      <td>10490.23</td>\n",
       "    </tr>\n",
       "    <tr>\n",
       "      <th>8</th>\n",
       "      <td>774</td>\n",
       "      <td>1588.13</td>\n",
       "    </tr>\n",
       "    <tr>\n",
       "      <th>27</th>\n",
       "      <td>3528</td>\n",
       "      <td>1323.05</td>\n",
       "    </tr>\n",
       "    <tr>\n",
       "      <th>23</th>\n",
       "      <td>2938</td>\n",
       "      <td>504.40</td>\n",
       "    </tr>\n",
       "    <tr>\n",
       "      <th>18</th>\n",
       "      <td>2491</td>\n",
       "      <td>453.85</td>\n",
       "    </tr>\n",
       "    <tr>\n",
       "      <th>30</th>\n",
       "      <td>4242</td>\n",
       "      <td>262.56</td>\n",
       "    </tr>\n",
       "    <tr>\n",
       "      <th>5</th>\n",
       "      <td>495</td>\n",
       "      <td>106.43</td>\n",
       "    </tr>\n",
       "    <tr>\n",
       "      <th>0</th>\n",
       "      <td>266</td>\n",
       "      <td>105.02</td>\n",
       "    </tr>\n",
       "    <tr>\n",
       "      <th>13</th>\n",
       "      <td>1697</td>\n",
       "      <td>97.41</td>\n",
       "    </tr>\n",
       "    <tr>\n",
       "      <th>24</th>\n",
       "      <td>2973</td>\n",
       "      <td>92.55</td>\n",
       "    </tr>\n",
       "  </tbody>\n",
       "</table>\n",
       "</div>"
      ],
      "text/plain": [
       "    customer_id     total\n",
       "32         5115  10490.23\n",
       "8           774   1588.13\n",
       "27         3528   1323.05\n",
       "23         2938    504.40\n",
       "18         2491    453.85\n",
       "30         4242    262.56\n",
       "5           495    106.43\n",
       "0           266    105.02\n",
       "13         1697     97.41\n",
       "24         2973     92.55"
      ]
     },
     "execution_count": 22,
     "metadata": {},
     "output_type": "execute_result"
    }
   ],
   "source": [
    "top_customers = (\n",
    "    df.groupby(\"customer_id\", as_index=False)[\"total\"]\n",
    "      .sum()\n",
    "      .sort_values(\"total\", ascending=False)\n",
    "      .head(10)\n",
    ")\n",
    "top_customers"
   ]
  },
  {
   "cell_type": "code",
   "execution_count": 23,
   "id": "62995319",
   "metadata": {},
   "outputs": [
    {
     "data": {
      "image/png": "[encoded data removed]",
      "text/plain": [
       "<Figure size 640x480 with 1 Axes>"
      ]
     },
     "metadata": {},
     "output_type": "display_data"
    }
   ],
   "source": [
    "top_customers.plot(kind=\"barh\", x=\"customer_id\", y=\"total\", legend=False)\n",
    "plt.title(\"Top 10 Customers by Revenue\")\n",
    "plt.show()"
   ]
  },
  {
   "cell_type": "code",
   "execution_count": 24,
   "id": "aef76a13",
   "metadata": {},
   "outputs": [
    {
     "data": {
      "text/html": [
       "<div>\n",
       "<style scoped>\n",
       "    .dataframe tbody tr th:only-of-type {\n",
       "        vertical-align: middle;\n",
       "    }\n",
       "\n",
       "    .dataframe tbody tr th {\n",
       "        vertical-align: top;\n",
       "    }\n",
       "\n",
       "    .dataframe thead th {\n",
       "        text-align: right;\n",
       "    }\n",
       "</style>\n",
       "<table border=\"1\" class=\"dataframe\">\n",
       "  <thead>\n",
       "    <tr style=\"text-align: right;\">\n",
       "      <th></th>\n",
       "      <th>month</th>\n",
       "      <th>total</th>\n",
       "    </tr>\n",
       "  </thead>\n",
       "  <tbody>\n",
       "    <tr>\n",
       "      <th>0</th>\n",
       "      <td>2024-09-01</td>\n",
       "      <td>891.58</td>\n",
       "    </tr>\n",
       "    <tr>\n",
       "      <th>1</th>\n",
       "      <td>2024-10-01</td>\n",
       "      <td>1847.41</td>\n",
       "    </tr>\n",
       "    <tr>\n",
       "      <th>2</th>\n",
       "      <td>2024-11-01</td>\n",
       "      <td>1832.20</td>\n",
       "    </tr>\n",
       "    <tr>\n",
       "      <th>3</th>\n",
       "      <td>2024-12-01</td>\n",
       "      <td>11201.66</td>\n",
       "    </tr>\n",
       "  </tbody>\n",
       "</table>\n",
       "</div>"
      ],
      "text/plain": [
       "       month     total\n",
       "0 2024-09-01    891.58\n",
       "1 2024-10-01   1847.41\n",
       "2 2024-11-01   1832.20\n",
       "3 2024-12-01  11201.66"
      ]
     },
     "execution_count": 24,
     "metadata": {},
     "output_type": "execute_result"
    }
   ],
   "source": [
    "df[\"month\"] = df[\"date\"].dt.to_period(\"M\").dt.to_timestamp()\n",
    "monthly = df.groupby(\"month\", as_index=False)[\"total\"].sum()\n",
    "monthly"
   ]
  },
  {
   "cell_type": "code",
   "execution_count": 25,
   "id": "66c2850e",
   "metadata": {},
   "outputs": [
    {
     "data": {
      "image/png": "[encoded data removed]",
      "text/plain": [
       "<Figure size 640x480 with 1 Axes>"
      ]
     },
     "metadata": {},
     "output_type": "display_data"
    }
   ],
   "source": [
    "monthly.plot(x=\"month\", y=\"total\", kind=\"line\", marker=\"o\")\n",
    "plt.title(\"Monthly Revenue Trend\")\n",
    "plt.show()"
   ]
  },
  {
   "cell_type": "code",
   "execution_count": 26,
   "id": "411899d7",
   "metadata": {},
   "outputs": [
    {
     "data": {
      "text/html": [
       "<div>\n",
       "<style scoped>\n",
       "    .dataframe tbody tr th:only-of-type {\n",
       "        vertical-align: middle;\n",
       "    }\n",
       "\n",
       "    .dataframe tbody tr th {\n",
       "        vertical-align: top;\n",
       "    }\n",
       "\n",
       "    .dataframe thead th {\n",
       "        text-align: right;\n",
       "    }\n",
       "</style>\n",
       "<table border=\"1\" class=\"dataframe\">\n",
       "  <thead>\n",
       "    <tr style=\"text-align: right;\">\n",
       "      <th></th>\n",
       "      <th>customer_id</th>\n",
       "      <th>total</th>\n",
       "    </tr>\n",
       "  </thead>\n",
       "  <tbody>\n",
       "  </tbody>\n",
       "</table>\n",
       "</div>"
      ],
      "text/plain": [
       "Empty DataFrame\n",
       "Columns: [customer_id, total]\n",
       "Index: []"
      ]
     },
     "execution_count": 26,
     "metadata": {},
     "output_type": "execute_result"
    }
   ],
   "source": [
    "refunds = df[df[\"total\"] < 0].copy()\n",
    "refunds_summary = (\n",
    "    refunds.groupby(\"customer_id\", as_index=False)[\"total\"]\n",
    "           .sum()\n",
    "           .sort_values(\"total\")\n",
    ")\n",
    "refunds_summary.head()"
   ]
  },
  {
   "cell_type": "code",
   "execution_count": 27,
   "id": "5dff39cc",
   "metadata": {},
   "outputs": [
    {
     "ename": "IndexError",
     "evalue": "index 0 is out of bounds for axis 0 with size 0",
     "output_type": "error",
     "traceback": [
      "\u001b[31m---------------------------------------------------------------------------\u001b[39m",
      "\u001b[31mIndexError\u001b[39m                                Traceback (most recent call last)",
      "\u001b[36mCell\u001b[39m\u001b[36m \u001b[39m\u001b[32mIn[27]\u001b[39m\u001b[32m, line 1\u001b[39m\n\u001b[32m----> \u001b[39m\u001b[32m1\u001b[39m \u001b[43mrefunds_summary\u001b[49m\u001b[43m.\u001b[49m\u001b[43mhead\u001b[49m\u001b[43m(\u001b[49m\u001b[32;43m10\u001b[39;49m\u001b[43m)\u001b[49m\u001b[43m.\u001b[49m\u001b[43mplot\u001b[49m\u001b[43m(\u001b[49m\u001b[43mkind\u001b[49m\u001b[43m=\u001b[49m\u001b[33;43m\"\u001b[39;49m\u001b[33;43mbarh\u001b[39;49m\u001b[33;43m\"\u001b[39;49m\u001b[43m,\u001b[49m\u001b[43m \u001b[49m\u001b[43mx\u001b[49m\u001b[43m=\u001b[49m\u001b[33;43m\"\u001b[39;49m\u001b[33;43mcustomer_id\u001b[39;49m\u001b[33;43m\"\u001b[39;49m\u001b[43m,\u001b[49m\u001b[43m \u001b[49m\u001b[43my\u001b[49m\u001b[43m=\u001b[49m\u001b[33;43m\"\u001b[39;49m\u001b[33;43mtotal\u001b[39;49m\u001b[33;43m\"\u001b[39;49m\u001b[43m,\u001b[49m\u001b[43m \u001b[49m\u001b[43mlegend\u001b[49m\u001b[43m=\u001b[49m\u001b[38;5;28;43;01mFalse\u001b[39;49;00m\u001b[43m)\u001b[49m\n\u001b[32m      2\u001b[39m plt.title(\u001b[33m\"\u001b[39m\u001b[33mTop Refund Customers\u001b[39m\u001b[33m\"\u001b[39m)\n\u001b[32m      3\u001b[39m plt.show()\n",
      "\u001b[36mFile \u001b[39m\u001b[32m~/GitHubRepos/retail-sales-pipeline/.venv/lib/python3.13/site-packages/pandas/plotting/_core.py:1030\u001b[39m, in \u001b[36mPlotAccessor.__call__\u001b[39m\u001b[34m(self, *args, **kwargs)\u001b[39m\n\u001b[32m   1027\u001b[39m             label_name = label_kw \u001b[38;5;129;01mor\u001b[39;00m data.columns\n\u001b[32m   1028\u001b[39m             data.columns = label_name\n\u001b[32m-> \u001b[39m\u001b[32m1030\u001b[39m \u001b[38;5;28;01mreturn\u001b[39;00m \u001b[43mplot_backend\u001b[49m\u001b[43m.\u001b[49m\u001b[43mplot\u001b[49m\u001b[43m(\u001b[49m\u001b[43mdata\u001b[49m\u001b[43m,\u001b[49m\u001b[43m \u001b[49m\u001b[43mkind\u001b[49m\u001b[43m=\u001b[49m\u001b[43mkind\u001b[49m\u001b[43m,\u001b[49m\u001b[43m \u001b[49m\u001b[43m*\u001b[49m\u001b[43m*\u001b[49m\u001b[43mkwargs\u001b[49m\u001b[43m)\u001b[49m\n",
      "\u001b[36mFile \u001b[39m\u001b[32m~/GitHubRepos/retail-sales-pipeline/.venv/lib/python3.13/site-packages/pandas/plotting/_matplotlib/__init__.py:71\u001b[39m, in \u001b[36mplot\u001b[39m\u001b[34m(data, kind, **kwargs)\u001b[39m\n\u001b[32m     69\u001b[39m         kwargs[\u001b[33m\"\u001b[39m\u001b[33max\u001b[39m\u001b[33m\"\u001b[39m] = \u001b[38;5;28mgetattr\u001b[39m(ax, \u001b[33m\"\u001b[39m\u001b[33mleft_ax\u001b[39m\u001b[33m\"\u001b[39m, ax)\n\u001b[32m     70\u001b[39m plot_obj = PLOT_CLASSES[kind](data, **kwargs)\n\u001b[32m---> \u001b[39m\u001b[32m71\u001b[39m \u001b[43mplot_obj\u001b[49m\u001b[43m.\u001b[49m\u001b[43mgenerate\u001b[49m\u001b[43m(\u001b[49m\u001b[43m)\u001b[49m\n\u001b[32m     72\u001b[39m plot_obj.draw()\n\u001b[32m     73\u001b[39m \u001b[38;5;28;01mreturn\u001b[39;00m plot_obj.result\n",
      "\u001b[36mFile \u001b[39m\u001b[32m~/GitHubRepos/retail-sales-pipeline/.venv/lib/python3.13/site-packages/pandas/plotting/_matplotlib/core.py:508\u001b[39m, in \u001b[36mMPLPlot.generate\u001b[39m\u001b[34m(self)\u001b[39m\n\u001b[32m    506\u001b[39m \u001b[38;5;28;01mfor\u001b[39;00m ax \u001b[38;5;129;01min\u001b[39;00m \u001b[38;5;28mself\u001b[39m.axes:\n\u001b[32m    507\u001b[39m     \u001b[38;5;28mself\u001b[39m._post_plot_logic_common(ax)\n\u001b[32m--> \u001b[39m\u001b[32m508\u001b[39m     \u001b[38;5;28;43mself\u001b[39;49m\u001b[43m.\u001b[49m\u001b[43m_post_plot_logic\u001b[49m\u001b[43m(\u001b[49m\u001b[43max\u001b[49m\u001b[43m,\u001b[49m\u001b[43m \u001b[49m\u001b[38;5;28;43mself\u001b[39;49m\u001b[43m.\u001b[49m\u001b[43mdata\u001b[49m\u001b[43m)\u001b[49m\n",
      "\u001b[36mFile \u001b[39m\u001b[32m~/GitHubRepos/retail-sales-pipeline/.venv/lib/python3.13/site-packages/pandas/plotting/_matplotlib/core.py:1966\u001b[39m, in \u001b[36mBarPlot._post_plot_logic\u001b[39m\u001b[34m(self, ax, data)\u001b[39m\n\u001b[32m   1963\u001b[39m \u001b[38;5;28;01melse\u001b[39;00m:\n\u001b[32m   1964\u001b[39m     str_index = [pprint_thing(key) \u001b[38;5;28;01mfor\u001b[39;00m key \u001b[38;5;129;01min\u001b[39;00m \u001b[38;5;28mrange\u001b[39m(data.shape[\u001b[32m0\u001b[39m])]\n\u001b[32m-> \u001b[39m\u001b[32m1966\u001b[39m s_edge = \u001b[38;5;28;43mself\u001b[39;49m\u001b[43m.\u001b[49m\u001b[43max_pos\u001b[49m\u001b[43m[\u001b[49m\u001b[32;43m0\u001b[39;49m\u001b[43m]\u001b[49m - \u001b[32m0.25\u001b[39m + \u001b[38;5;28mself\u001b[39m.lim_offset\n\u001b[32m   1967\u001b[39m e_edge = \u001b[38;5;28mself\u001b[39m.ax_pos[-\u001b[32m1\u001b[39m] + \u001b[32m0.25\u001b[39m + \u001b[38;5;28mself\u001b[39m.bar_width + \u001b[38;5;28mself\u001b[39m.lim_offset\n\u001b[32m   1969\u001b[39m \u001b[38;5;28mself\u001b[39m._decorate_ticks(ax, \u001b[38;5;28mself\u001b[39m._get_index_name(), str_index, s_edge, e_edge)\n",
      "\u001b[31mIndexError\u001b[39m: index 0 is out of bounds for axis 0 with size 0"
     ]
    },
    {
     "data": {
      "image/png": "[encoded data removed]",
      "text/plain": [
       "<Figure size 640x480 with 1 Axes>"
      ]
     },
     "metadata": {},
     "output_type": "display_data"
    }
   ],
   "source": [
    "refunds_summary.head(10).plot(kind=\"barh\", x=\"customer_id\", y=\"total\", legend=False)\n",
    "plt.title(\"Top Refund Customers\")\n",
    "plt.show()"
   ]
  }
 ],
 "metadata": {
  "kernelspec": {
   "display_name": ".venv",
   "language": "python",
   "name": "python3"
  },
  "language_info": {
   "codemirror_mode": {
    "name": "ipython",
    "version": 3
   },
   "file_extension": ".py",
   "mimetype": "text/x-python",
   "name": "python",
   "nbconvert_exporter": "python",
   "pygments_lexer": "ipython3",
   "version": "3.13.5"
  }
 },
 "nbformat": 4,
 "nbformat_minor": 5
}
